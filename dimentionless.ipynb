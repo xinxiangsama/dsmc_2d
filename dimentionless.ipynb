{
 "cells": [
  {
   "cell_type": "markdown",
   "id": "9c3115ae",
   "metadata": {},
   "source": [
    "### 根据圆柱大小、克努森数确定密度或分子数密度"
   ]
  },
  {
   "cell_type": "code",
   "execution_count": 31,
   "id": "afe9709b",
   "metadata": {},
   "outputs": [],
   "source": [
    "import numpy as np"
   ]
  },
  {
   "cell_type": "code",
   "execution_count": 32,
   "id": "471fdd1c",
   "metadata": {},
   "outputs": [],
   "source": [
    "#分子性质 \n",
    "\n",
    "#======氮气========\n",
    "# mass = 4.65116e-26\n",
    "# diam = 4.17e-10\n",
    "# Vtl = 0.74\n",
    "#=====氩气=======\n",
    "mass = 6.63e-26\n",
    "diam = 4.17e-10\n",
    "Vtl = 0.81\n",
    "\n",
    "# 定义气体常量\n",
    "k_B = 1.380649e-23       # Boltzmann 常数，J/K\n",
    "\n",
    "# 气体性质输入\n",
    "T_inf = 273              # 来流温度，单位 K\n",
    "M_target = 4          # 目标马赫数\n",
    "gamma = 5.0 / 3.0        # 比热比（单原子气体，氩气为 5/3，双原子为 7/5）"
   ]
  },
  {
   "cell_type": "code",
   "execution_count": 33,
   "id": "3d977309",
   "metadata": {},
   "outputs": [],
   "source": [
    "#圆柱直径(m)\n",
    "D = 0.10 \n",
    "\n",
    "#目标克努森数\n",
    "# Kn = 0.016\n",
    "# Kn = 0.08\n",
    "Kn = 0.4\n"
   ]
  },
  {
   "cell_type": "code",
   "execution_count": 34,
   "id": "c3465bda",
   "metadata": {},
   "outputs": [
    {
     "name": "stdout",
     "output_type": "stream",
     "text": [
      "3.2359591325396726e+19 \n",
      " 2.145440904873803e-06\n"
     ]
    }
   ],
   "source": [
    "n = 1 / (Kn * D * np.sqrt(2) * np.pi * diam * diam)\n",
    "rho = mass * n\n",
    "print(n, \"\\n\",rho)"
   ]
  },
  {
   "cell_type": "markdown",
   "id": "71e7c57c",
   "metadata": {},
   "source": [
    "### 根据马赫数确定速度"
   ]
  },
  {
   "cell_type": "code",
   "execution_count": 35,
   "id": "1bd6c7e6",
   "metadata": {},
   "outputs": [
    {
     "name": "stdout",
     "output_type": "stream",
     "text": [
      "声速 a = 307.82 m/s\n",
      "来流速度 u = 1231.26 m/s\n"
     ]
    }
   ],
   "source": [
    "# 计算单位质量气体常数 R\n",
    "R_specific = k_B / mass\n",
    "\n",
    "# 计算声速（单位：m/s）\n",
    "a_inf = np.sqrt(gamma * R_specific * T_inf)\n",
    "\n",
    "# 计算来流速度（单位：m/s）\n",
    "u_inf = M_target * a_inf\n",
    "\n",
    "print(f\"声速 a = {a_inf:.2f} m/s\")\n",
    "print(f\"来流速度 u = {u_inf:.2f} m/s\")\n"
   ]
  }
 ],
 "metadata": {
  "kernelspec": {
   "display_name": "base",
   "language": "python",
   "name": "python3"
  },
  "language_info": {
   "codemirror_mode": {
    "name": "ipython",
    "version": 3
   },
   "file_extension": ".py",
   "mimetype": "text/x-python",
   "name": "python",
   "nbconvert_exporter": "python",
   "pygments_lexer": "ipython3",
   "version": "3.12.7"
  }
 },
 "nbformat": 4,
 "nbformat_minor": 5
}
