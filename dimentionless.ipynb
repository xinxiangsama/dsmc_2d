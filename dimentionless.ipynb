{
 "cells": [
  {
   "cell_type": "markdown",
   "id": "9c3115ae",
   "metadata": {},
   "source": [
    "### 根据圆柱大小、克努森数确定密度或分子数密度"
   ]
  },
  {
   "cell_type": "code",
   "execution_count": 8,
   "id": "afe9709b",
   "metadata": {},
   "outputs": [],
   "source": [
    "import numpy as np"
   ]
  },
  {
   "cell_type": "code",
   "execution_count": 9,
   "id": "471fdd1c",
   "metadata": {},
   "outputs": [],
   "source": [
    "#分子性质 \n",
    "\n",
    "#======氮气========\n",
    "mass = 4.65116e-26\n",
    "diam = 4.17e-10\n",
    "Vtl = 0.74"
   ]
  },
  {
   "cell_type": "code",
   "execution_count": 10,
   "id": "3d977309",
   "metadata": {},
   "outputs": [],
   "source": [
    "#圆柱直径(m)\n",
    "D = 0.10 \n",
    "\n",
    "#目标克努森数\n",
    "Kn = 0.0016\n"
   ]
  },
  {
   "cell_type": "code",
   "execution_count": 11,
   "id": "c3465bda",
   "metadata": {},
   "outputs": [
    {
     "name": "stdout",
     "output_type": "stream",
     "text": [
      "8.089897831349181e+21\n"
     ]
    }
   ],
   "source": [
    "n = 1 / (Kn * D * np.sqrt(2) * np.pi * diam * diam)\n",
    "\n",
    "print(n)"
   ]
  }
 ],
 "metadata": {
  "kernelspec": {
   "display_name": "base",
   "language": "python",
   "name": "python3"
  },
  "language_info": {
   "codemirror_mode": {
    "name": "ipython",
    "version": 3
   },
   "file_extension": ".py",
   "mimetype": "text/x-python",
   "name": "python",
   "nbconvert_exporter": "python",
   "pygments_lexer": "ipython3",
   "version": "3.12.7"
  }
 },
 "nbformat": 4,
 "nbformat_minor": 5
}
